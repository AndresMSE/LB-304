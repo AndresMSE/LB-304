{
 "cells": [
  {
   "cell_type": "code",
   "execution_count": 1,
   "metadata": {},
   "outputs": [],
   "source": [
    "import scipy as sc\n",
    "import numpy as np\n",
    "import matplotlib\n",
    "import matplotlib.pyplot as plt\n",
    "\n",
    "def morlet(fecx,wide,freqm):\n",
    "    frecm=freqm\n",
    "    twav = np.linspace(-2,2,frecm*4)\n",
    "    #Sine wave\n",
    "    com_sin = np.exp(1j*2*np.pi*fecx*twav)\n",
    "    #Gauss wave\n",
    "    sigma = wide/(2*np.pi*fecx)\n",
    "    gauss_c = np.exp(-twav**2/(2*sigma**2))\n",
    "    #Normalization\n",
    "    A_sigma = 1/(np.sqrt(sigma*np.sqrt(np.pi)))\n",
    "    #Morlet wavelet\n",
    "    wavelet = com_sin*gauss_c\n",
    "    return wavelet\n",
    "\n",
    "def MRA(sig,fi,ff,freq_int,wavelet,freqm):\n",
    "    #vect freq var\n",
    "    range_cycles = [1,10] #barrido de número de ciclos\n",
    "    delta = ff-fi #intervalo de frecuencias de descomposición\n",
    "    num_frq = int(delta*(1/freq_int)) # número de frecuencias en que se descompone\n",
    "    vfrec = np.linspace(fi,ff,num_frq) #vector de frecuencias\n",
    "    num_cycles =np.logspace(np.log10(range_cycles[0]), np.log10(range_cycles[-1]),num_frq) #vector de ciclos\n",
    "    #Preparation\n",
    "    n,m = len(sig),len(wavelet(vfrec[0],range_cycles[0],freqm))\n",
    "    p = n+m-1\n",
    "    k = num_frq\n",
    "    half_wav = int(np.floor(m/2))\n",
    "    matrx_pad = np.zeros([k,p])\n",
    "    sig_fft = sc.fft.fft(np.pad(sig,(0,p-n+1),'constant'))\n",
    "    #Convolution\n",
    "    conv_mat = np.zeros([k,n])\n",
    "    aux_vec = []\n",
    "    for i in range(k):\n",
    "        wave = np.pad(wavelet(vfrec[i],num_cycles[i],freqm), (0,n),'constant')\n",
    "        wave_fft = sc.fft.fft(wave) \n",
    "        wave_fft = wave_fft / wave_fft.max()\n",
    "        conv_res_prim = np.multiply(sig_fft,wave_fft)\n",
    "        conv_res = abs(sc.fft.ifft(conv_res_prim))**2 #resultado \n",
    "        conv_res = conv_res[half_wav:-half_wav] #recorte del padding\n",
    "        for j in range(n):\n",
    "            conv_mat[i][j] = conv_res[j]\n",
    "    return conv_mat"
   ]
  }
 ],
 "metadata": {
  "kernelspec": {
   "display_name": "Python 3",
   "language": "python",
   "name": "python3"
  },
  "language_info": {
   "codemirror_mode": {
    "name": "ipython",
    "version": 3
   },
   "file_extension": ".py",
   "mimetype": "text/x-python",
   "name": "python",
   "nbconvert_exporter": "python",
   "pygments_lexer": "ipython3",
   "version": "3.8.5"
  }
 },
 "nbformat": 4,
 "nbformat_minor": 4
}
